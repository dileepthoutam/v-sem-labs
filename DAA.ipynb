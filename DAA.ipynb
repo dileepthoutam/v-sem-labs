{
  "nbformat": 4,
  "nbformat_minor": 0,
  "metadata": {
    "colab": {
      "name": "DAA.ipynb",
      "provenance": [],
      "authorship_tag": "ABX9TyOPxjbWN+qPMtZzK4xqUt/t",
      "include_colab_link": true
    },
    "kernelspec": {
      "name": "python3",
      "display_name": "Python 3"
    },
    "language_info": {
      "name": "python"
    }
  },
  "cells": [
    {
      "cell_type": "markdown",
      "metadata": {
        "id": "view-in-github",
        "colab_type": "text"
      },
      "source": [
        "<a href=\"https://colab.research.google.com/github/dileepthoutam/v-sem-labs/blob/main/DAA.ipynb\" target=\"_parent\"><img src=\"https://colab.research.google.com/assets/colab-badge.svg\" alt=\"Open In Colab\"/></a>"
      ]
    },
    {
      "cell_type": "code",
      "execution_count": 5,
      "metadata": {
        "colab": {
          "base_uri": "https://localhost:8080/"
        },
        "id": "R6-9FLX8Sqib",
        "outputId": "2432d6ba-e466-4d6e-ffbd-840448164db3"
      },
      "outputs": [
        {
          "output_type": "stream",
          "name": "stdout",
          "text": [
            "240.0\n"
          ]
        }
      ],
      "source": [
        "# fractional knapsack\n",
        "\n",
        "class Item:\n",
        "    def __init__(self, value, weight):\n",
        "        self.value = value\n",
        "        self.weight = weight\n",
        "        self.cost = value // weight\n",
        "    def __lt__(self, other):\n",
        "        return self.cost < other.cost \n",
        "    \n",
        "def fractionalKnapsack(values, weights, capacity):\n",
        "    items = []\n",
        "    for i in range(len(values)):\n",
        "        items.append(Item(values[i], weights[i]))\n",
        "    \n",
        "    items.sort(reverse=True)\n",
        "\n",
        "    currentWeight = 0\n",
        "    totalValue = 0.0\n",
        "\n",
        "    for item in items:\n",
        "        if currentWeight + item.weight <= capacity:\n",
        "            currentWeight += item.weight\n",
        "            totalValue += item.value\n",
        "        else:\n",
        "            remain = capacity - currentWeight\n",
        "            totalValue = totalValue + item.value * float(remain/item.weight)\n",
        "            break\n",
        "    \n",
        "    return totalValue\n",
        "\n",
        "values = [60,100,120]\n",
        "weights = [10, 20, 30]\n",
        "\n",
        "result = fractionalKnapsack(values, weights, 50)\n",
        "print(result)\n",
        "        \n"
      ]
    },
    {
      "cell_type": "code",
      "source": [
        "# min and max using divide and conquer\n",
        "\n",
        "import random\n",
        "\n",
        "def minAndMax(nums, start, end):\n",
        "    if (start == end):\n",
        "        return (nums[start], nums[end])\n",
        "    elif (end == start + 1):\n",
        "        return (min(nums[start], nums[end]), max(nums[start], nums[end]))\n",
        "    else:\n",
        "        mid = start + (end-start)//2\n",
        "        mn1, mx1 = minAndMax(nums, start, mid)\n",
        "        mn2, mx2 = minAndMax(nums, mid + 1, end)\n",
        "\n",
        "        return (min(mn1, mn2), max(mx1, mx2))\n",
        "\n",
        "nums = [random.randint(1, 100) for _ in range(10)]\n",
        "print(nums)\n",
        "\n",
        "mn, mx = minAndMax(nums, 0, len(nums) - 1)\n",
        "print(mn, mx)\n"
      ],
      "metadata": {
        "colab": {
          "base_uri": "https://localhost:8080/"
        },
        "id": "fcV6O_mUVpGX",
        "outputId": "893195d6-9df0-4428-fd1a-66683769c3b6"
      },
      "execution_count": 7,
      "outputs": [
        {
          "output_type": "stream",
          "name": "stdout",
          "text": [
            "[22, 25, 38, 2, 75, 75, 18, 19, 58, 60]\n",
            "2 75\n"
          ]
        }
      ]
    },
    {
      "cell_type": "code",
      "source": [
        "# max subarray sum using divide and conquer\n",
        "\n",
        "class Pair:\n",
        "    def __init__(self, summ, first, second):\n",
        "        self.summ = summ\n",
        "        self.first = first\n",
        "        self.second = second \n",
        "\n",
        "def maxSubArrayCrossingSum(nums, start, mid, end):\n",
        "    leftSum = float('-inf')\n",
        "    summ = 0\n",
        "    maxLeft, maxRight = 0, 0\n",
        "\n",
        "    for i in range(mid, -1, -1):\n",
        "        summ += nums[i] \n",
        "        if summ > leftSum:\n",
        "            leftSum = summ\n",
        "            maxLeft = i\n",
        "    \n",
        "    summ = 0\n",
        "    rightSum = float('-inf')\n",
        "    for j in range(mid + 1, end + 1):\n",
        "        summ += nums[j]\n",
        "        if summ > rightSum:\n",
        "            rightSum = summ\n",
        "            maxRight = j\n",
        "    \n",
        "    return Pair(leftSum + rightSum, maxLeft, maxRight)\n",
        "\n",
        "def maxSubArraySum(nums, start, end):\n",
        "    if (start == end):\n",
        "        return Pair(nums[start], start, end)\n",
        "    else:\n",
        "        mid = start + (end-start) // 2\n",
        "\n",
        "        left = maxSubArraySum(nums, start, mid)\n",
        "        right = maxSubArraySum(nums, mid + 1, end)\n",
        "        cross = maxSubArrayCrossingSum(nums, start, mid, end)\n",
        "\n",
        "        if left.summ > right.summ and left.summ > cross.summ:\n",
        "            return left\n",
        "        elif right.summ > left.summ and right.summ > cross.summ:\n",
        "            return right\n",
        "        else:\n",
        "            return cross \n",
        "\n",
        "nums = [1,2,3,4,-5]\n",
        "result = maxSubArraySum(nums, 0, len(nums) - 1)\n",
        "\n",
        "print(result.summ)\n",
        "for i in range(result.first, result.second + 1):\n",
        "    print(nums[i], end=\" \")\n",
        "print()\n"
      ],
      "metadata": {
        "colab": {
          "base_uri": "https://localhost:8080/"
        },
        "id": "rvvZ_bK4WkJO",
        "outputId": "3f8b6a9e-2cd0-4366-b697-dd57b55a166d"
      },
      "execution_count": 9,
      "outputs": [
        {
          "output_type": "stream",
          "name": "stdout",
          "text": [
            "10\n",
            "1 2 3 4 \n"
          ]
        }
      ]
    },
    {
      "cell_type": "code",
      "source": [
        "# job sequencing problem\n",
        "\n",
        "class Job:\n",
        "    def __init__(self, id, deadline, profit):\n",
        "        self.id = id\n",
        "        self.deadline = deadline\n",
        "        self.profit = profit \n",
        "    def __lt__(self, other):\n",
        "        return self.profit < other.profit \n",
        "    \n",
        "def jobSequencing(ids, deadlines, profits):\n",
        "    jobs = []\n",
        "    for i in range(len(ids)):\n",
        "        jobs.append(Job(ids[i], deadlines[i], profits[i]))\n",
        "\n",
        "    jobs.sort(reverse=True)\n",
        "\n",
        "    nax = 0\n",
        "    for job in jobs:\n",
        "        nax = max(nax, job.deadline)\n",
        "\n",
        "    slots = [-1] * nax\n",
        "    totalProfit = 0\n",
        "\n",
        "    for i in range(len(jobs)):\n",
        "        for j in range(jobs[i].deadline-1, -1, -1):\n",
        "            if slots[j] == -1:\n",
        "                slots[j] = jobs[i].id\n",
        "                totalProfit += jobs[i].profit\n",
        "                break\n",
        "\n",
        "    return (totalProfit, slots)\n",
        "\n",
        "ids = ['a', 'b', 'c', 'd']\n",
        "deadlines = [4,1,1,1]\n",
        "profits = [20,10,40,30]\n",
        "\n",
        "totalProfit, slots = jobSequencing(ids, deadlines, profits)\n",
        "print(totalProfit)\n",
        "for slot in slots:\n",
        "    if slot != -1:\n",
        "        print(slot, end=\" \")\n",
        "print()\n",
        "\n"
      ],
      "metadata": {
        "colab": {
          "base_uri": "https://localhost:8080/"
        },
        "id": "jMKFYaX3YW9j",
        "outputId": "44ac9d8a-662e-4047-9364-12f94de1ef5c"
      },
      "execution_count": 12,
      "outputs": [
        {
          "output_type": "stream",
          "name": "stdout",
          "text": [
            "60\n",
            "c a \n"
          ]
        }
      ]
    },
    {
      "cell_type": "code",
      "source": [
        "# zero one knapsack\n",
        "\n",
        "def zeroOneKnapsack(N, W, values, weights):\n",
        "    \"\"\"\n",
        "    N = no of values, weights\n",
        "    W = capacity\n",
        "    \"\"\"\n",
        "    dp = [[0 for _ in range(W+1)] for _ in range(N+1)]\n",
        "    \n",
        "    for i in range(1, N+1):\n",
        "        for j in range(1, W+1):\n",
        "            if (weights[i-1] <= j):\n",
        "                dp[i][j] = max(values[i-1] + dp[i-1][j-weights[i-1]], dp[i-1][j])\n",
        "            else:\n",
        "                dp[i][j] = dp[i-1][j]\n",
        "    \n",
        "    return dp[N][W]\n",
        "\n",
        "weights = [10, 20, 30]\n",
        "values = [60, 100, 120]\n",
        "\n",
        "result = zeroOneKnapsack(3, 50, values, weights)\n",
        "print(result)\n",
        "\n"
      ],
      "metadata": {
        "colab": {
          "base_uri": "https://localhost:8080/"
        },
        "id": "D53Aex7makzB",
        "outputId": "94b9c6b8-16d2-4da3-ec44-2ca52bcd4803"
      },
      "execution_count": 16,
      "outputs": [
        {
          "output_type": "stream",
          "name": "stdout",
          "text": [
            "220\n"
          ]
        }
      ]
    },
    {
      "cell_type": "code",
      "source": [
        "# longest common sub sequence\n",
        "\n",
        "def longestCommonSubSequence(A, B):\n",
        "    m = len(A)\n",
        "    n = len(B) \n",
        "\n",
        "    dp = [[0 for _ in range(n+1)] for _ in range(m+1)]\n",
        "\n",
        "    for i in range(1, m+1):\n",
        "        for j in range(1, n+1):\n",
        "            if A[i-1] == B[j-1]:\n",
        "                dp[i][j] = 1 + dp[i-1][j-1]\n",
        "            else:\n",
        "                dp[i][j] = max(dp[i-1][j], dp[i][j-1])\n",
        "        \n",
        "    return dp[m][n]\n",
        "\n",
        "A = \"something\"\n",
        "B = \"mthing\"\n",
        "\n",
        "result = longestCommonSubSequence(A, B)\n",
        "print(result)\n"
      ],
      "metadata": {
        "colab": {
          "base_uri": "https://localhost:8080/"
        },
        "id": "MiDKI_EHcP1S",
        "outputId": "94721fbd-1eaa-473e-db05-62561a57c557"
      },
      "execution_count": 17,
      "outputs": [
        {
          "output_type": "stream",
          "name": "stdout",
          "text": [
            "6\n"
          ]
        }
      ]
    }
  ]
}