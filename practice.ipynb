{
  "nbformat": 4,
  "nbformat_minor": 0,
  "metadata": {
    "colab": {
      "name": "practice.ipynb",
      "provenance": [],
      "collapsed_sections": [],
      "include_colab_link": true
    },
    "kernelspec": {
      "name": "python3",
      "display_name": "Python 3"
    },
    "language_info": {
      "name": "python"
    }
  },
  "cells": [
    {
      "cell_type": "markdown",
      "metadata": {
        "id": "view-in-github",
        "colab_type": "text"
      },
      "source": [
        "<a href=\"https://colab.research.google.com/github/dileepthoutam/v-sem-labs/blob/main/practice.ipynb\" target=\"_parent\"><img src=\"https://colab.research.google.com/assets/colab-badge.svg\" alt=\"Open In Colab\"/></a>"
      ]
    },
    {
      "cell_type": "code",
      "source": [
        "class Item:\n",
        "    def __init__(self, value, weight):\n",
        "        self.value = value\n",
        "        self.weight = weight\n",
        "        self.cost = value / weight \n",
        "    def __lt__(self, other):\n",
        "        return self.cost < other.cost \n",
        "\n",
        "def fractional_knapsack(values, weights, capacity):\n",
        "    items = []\n",
        "\n",
        "    for i in range(len(values)):\n",
        "        items.append(Item(values[i], weights[i]))\n",
        "    items.sort(reverse=True)\n",
        "\n",
        "    total_value = 0\n",
        "    current_weight = 0\n",
        "\n",
        "    for item in items:\n",
        "        if item.weight + current_weight <= capacity:\n",
        "            current_weight += item.weight \n",
        "            total_value += item.value\n",
        "        else:\n",
        "            remain = capacity - current_weight\n",
        "            total_value += (remain/item.weight) * item.value\n",
        "            break\n",
        "    return total_value \n",
        " \n",
        "weights = [10,20,30]\n",
        "values = [60,100,120]\n",
        "capacity = 50\n",
        "\n",
        "max_profit = fractional_knapsack(values, weights, capacity)\n",
        "print(max_profit)\n"
      ],
      "metadata": {
        "colab": {
          "base_uri": "https://localhost:8080/"
        },
        "id": "jSJBMpFyok-y",
        "outputId": "2fb950e8-7a68-4842-9caa-c6a53bfa5b65"
      },
      "execution_count": null,
      "outputs": [
        {
          "output_type": "stream",
          "name": "stdout",
          "text": [
            "240.0\n"
          ]
        }
      ]
    },
    {
      "cell_type": "code",
      "source": [
        "class Job:\n",
        "    def __init__(self, jid, deadline, profit):\n",
        "        self.jid = jid \n",
        "        self.deadline = deadline\n",
        "        self.profit = profit \n",
        "    def __lt__(self, other):\n",
        "        return self.profit < other.profit \n",
        "    \n",
        "def job_sequencing(jids, deadlines, profits):\n",
        "    jobs = []\n",
        "    for i in range(len(jids)):\n",
        "        jobs.append(Job(jids[i], deadlines[i], profits[i]))\n",
        "    jobs.sort(reverse=True)\n",
        "\n",
        "    nax = 0\n",
        "    for job in jobs:\n",
        "        nax = max(nax, job.deadline)\n",
        "    \n",
        "    slots = [-1] * nax\n",
        "    profit = 0\n",
        "\n",
        "    for i in range(nax):\n",
        "        for j in range(jobs[i].deadline-1, -1, -1):\n",
        "            if jobs[j] == -1:\n",
        "                jobs[j] = jobs[i].jid\n",
        "                profit += jobs[i].profit\n",
        "                break \n",
        "\n",
        "    return (slots, p)\n",
        "\n",
        "jids = ['a', 'b', 'c', 'd']\n",
        "deadlines = [4,1,1,1]\n",
        "profits = [20,10,40,30]\n",
        "\n",
        "result = job_sequencing(jids, deadlines, profits)\n",
        "print(result[1])\n",
        "for jid in result[0]:\n",
        "    print(jid, end=\" \")\n",
        "print()\n"
      ],
      "metadata": {
        "id": "OVEuM3AHpzHZ"
      },
      "execution_count": null,
      "outputs": []
    }
  ]
}